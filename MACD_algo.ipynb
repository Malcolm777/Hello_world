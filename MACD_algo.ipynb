{
  "nbformat": 4,
  "nbformat_minor": 0,
  "metadata": {
    "colab": {
      "name": "MACD algo.ipynb",
      "provenance": [],
      "collapsed_sections": [],
      "authorship_tag": "ABX9TyO7M5P9ykjn5a8+1qA2LuBr",
      "include_colab_link": true
    },
    "kernelspec": {
      "name": "python3",
      "display_name": "Python 3"
    }
  },
  "cells": [
    {
      "cell_type": "markdown",
      "metadata": {
        "id": "view-in-github",
        "colab_type": "text"
      },
      "source": [
        "<a href=\"https://colab.research.google.com/github/Malcolm777/Hello_world/blob/readme_edits/MACD_algo.ipynb\" target=\"_parent\"><img src=\"https://colab.research.google.com/assets/colab-badge.svg\" alt=\"Open In Colab\"/></a>"
      ]
    },
    {
      "cell_type": "code",
      "metadata": {
        "id": "renqU0LpV3ND",
        "colab_type": "code",
        "colab": {}
      },
      "source": [
        "#Description: This program uses the Moving Average Convergence/Divergence (MACD) crossover \n",
        "#                       to determine when to buy and sell stock "
      ],
      "execution_count": null,
      "outputs": []
    },
    {
      "cell_type": "code",
      "metadata": {
        "id": "FDzVE7R-WA0Z",
        "colab_type": "code",
        "colab": {}
      },
      "source": [
        "#Import the libraries \n",
        "import pandas as pd \n",
        "import numpy as np \n",
        "import matplotlib.pyplot as plt \n",
        "plt.style.use('fivethirtyeight')"
      ],
      "execution_count": 1,
      "outputs": []
    },
    {
      "cell_type": "code",
      "metadata": {
        "id": "OlAu68pxpsNL",
        "colab_type": "code",
        "colab": {
          "resources": {
            "http://localhost:8080/nbextensions/google.colab/files.js": {
              "data": "Ly8gQ29weXJpZ2h0IDIwMTcgR29vZ2xlIExMQwovLwovLyBMaWNlbnNlZCB1bmRlciB0aGUgQXBhY2hlIExpY2Vuc2UsIFZlcnNpb24gMi4wICh0aGUgIkxpY2Vuc2UiKTsKLy8geW91IG1heSBub3QgdXNlIHRoaXMgZmlsZSBleGNlcHQgaW4gY29tcGxpYW5jZSB3aXRoIHRoZSBMaWNlbnNlLgovLyBZb3UgbWF5IG9idGFpbiBhIGNvcHkgb2YgdGhlIExpY2Vuc2UgYXQKLy8KLy8gICAgICBodHRwOi8vd3d3LmFwYWNoZS5vcmcvbGljZW5zZXMvTElDRU5TRS0yLjAKLy8KLy8gVW5sZXNzIHJlcXVpcmVkIGJ5IGFwcGxpY2FibGUgbGF3IG9yIGFncmVlZCB0byBpbiB3cml0aW5nLCBzb2Z0d2FyZQovLyBkaXN0cmlidXRlZCB1bmRlciB0aGUgTGljZW5zZSBpcyBkaXN0cmlidXRlZCBvbiBhbiAiQVMgSVMiIEJBU0lTLAovLyBXSVRIT1VUIFdBUlJBTlRJRVMgT1IgQ09ORElUSU9OUyBPRiBBTlkgS0lORCwgZWl0aGVyIGV4cHJlc3Mgb3IgaW1wbGllZC4KLy8gU2VlIHRoZSBMaWNlbnNlIGZvciB0aGUgc3BlY2lmaWMgbGFuZ3VhZ2UgZ292ZXJuaW5nIHBlcm1pc3Npb25zIGFuZAovLyBsaW1pdGF0aW9ucyB1bmRlciB0aGUgTGljZW5zZS4KCi8qKgogKiBAZmlsZW92ZXJ2aWV3IEhlbHBlcnMgZm9yIGdvb2dsZS5jb2xhYiBQeXRob24gbW9kdWxlLgogKi8KKGZ1bmN0aW9uKHNjb3BlKSB7CmZ1bmN0aW9uIHNwYW4odGV4dCwgc3R5bGVBdHRyaWJ1dGVzID0ge30pIHsKICBjb25zdCBlbGVtZW50ID0gZG9jdW1lbnQuY3JlYXRlRWxlbWVudCgnc3BhbicpOwogIGVsZW1lbnQudGV4dENvbnRlbnQgPSB0ZXh0OwogIGZvciAoY29uc3Qga2V5IG9mIE9iamVjdC5rZXlzKHN0eWxlQXR0cmlidXRlcykpIHsKICAgIGVsZW1lbnQuc3R5bGVba2V5XSA9IHN0eWxlQXR0cmlidXRlc1trZXldOwogIH0KICByZXR1cm4gZWxlbWVudDsKfQoKLy8gTWF4IG51bWJlciBvZiBieXRlcyB3aGljaCB3aWxsIGJlIHVwbG9hZGVkIGF0IGEgdGltZS4KY29uc3QgTUFYX1BBWUxPQURfU0laRSA9IDEwMCAqIDEwMjQ7CgpmdW5jdGlvbiBfdXBsb2FkRmlsZXMoaW5wdXRJZCwgb3V0cHV0SWQpIHsKICBjb25zdCBzdGVwcyA9IHVwbG9hZEZpbGVzU3RlcChpbnB1dElkLCBvdXRwdXRJZCk7CiAgY29uc3Qgb3V0cHV0RWxlbWVudCA9IGRvY3VtZW50LmdldEVsZW1lbnRCeUlkKG91dHB1dElkKTsKICAvLyBDYWNoZSBzdGVwcyBvbiB0aGUgb3V0cHV0RWxlbWVudCB0byBtYWtlIGl0IGF2YWlsYWJsZSBmb3IgdGhlIG5leHQgY2FsbAogIC8vIHRvIHVwbG9hZEZpbGVzQ29udGludWUgZnJvbSBQeXRob24uCiAgb3V0cHV0RWxlbWVudC5zdGVwcyA9IHN0ZXBzOwoKICByZXR1cm4gX3VwbG9hZEZpbGVzQ29udGludWUob3V0cHV0SWQpOwp9CgovLyBUaGlzIGlzIHJvdWdobHkgYW4gYXN5bmMgZ2VuZXJhdG9yIChub3Qgc3VwcG9ydGVkIGluIHRoZSBicm93c2VyIHlldCksCi8vIHdoZXJlIHRoZXJlIGFyZSBtdWx0aXBsZSBhc3luY2hyb25vdXMgc3RlcHMgYW5kIHRoZSBQeXRob24gc2lkZSBpcyBnb2luZwovLyB0byBwb2xsIGZvciBjb21wbGV0aW9uIG9mIGVhY2ggc3RlcC4KLy8gVGhpcyB1c2VzIGEgUHJvbWlzZSB0byBibG9jayB0aGUgcHl0aG9uIHNpZGUgb24gY29tcGxldGlvbiBvZiBlYWNoIHN0ZXAsCi8vIHRoZW4gcGFzc2VzIHRoZSByZXN1bHQgb2YgdGhlIHByZXZpb3VzIHN0ZXAgYXMgdGhlIGlucHV0IHRvIHRoZSBuZXh0IHN0ZXAuCmZ1bmN0aW9uIF91cGxvYWRGaWxlc0NvbnRpbnVlKG91dHB1dElkKSB7CiAgY29uc3Qgb3V0cHV0RWxlbWVudCA9IGRvY3VtZW50LmdldEVsZW1lbnRCeUlkKG91dHB1dElkKTsKICBjb25zdCBzdGVwcyA9IG91dHB1dEVsZW1lbnQuc3RlcHM7CgogIGNvbnN0IG5leHQgPSBzdGVwcy5uZXh0KG91dHB1dEVsZW1lbnQubGFzdFByb21pc2VWYWx1ZSk7CiAgcmV0dXJuIFByb21pc2UucmVzb2x2ZShuZXh0LnZhbHVlLnByb21pc2UpLnRoZW4oKHZhbHVlKSA9PiB7CiAgICAvLyBDYWNoZSB0aGUgbGFzdCBwcm9taXNlIHZhbHVlIHRvIG1ha2UgaXQgYXZhaWxhYmxlIHRvIHRoZSBuZXh0CiAgICAvLyBzdGVwIG9mIHRoZSBnZW5lcmF0b3IuCiAgICBvdXRwdXRFbGVtZW50Lmxhc3RQcm9taXNlVmFsdWUgPSB2YWx1ZTsKICAgIHJldHVybiBuZXh0LnZhbHVlLnJlc3BvbnNlOwogIH0pOwp9CgovKioKICogR2VuZXJhdG9yIGZ1bmN0aW9uIHdoaWNoIGlzIGNhbGxlZCBiZXR3ZWVuIGVhY2ggYXN5bmMgc3RlcCBvZiB0aGUgdXBsb2FkCiAqIHByb2Nlc3MuCiAqIEBwYXJhbSB7c3RyaW5nfSBpbnB1dElkIEVsZW1lbnQgSUQgb2YgdGhlIGlucHV0IGZpbGUgcGlja2VyIGVsZW1lbnQuCiAqIEBwYXJhbSB7c3RyaW5nfSBvdXRwdXRJZCBFbGVtZW50IElEIG9mIHRoZSBvdXRwdXQgZGlzcGxheS4KICogQHJldHVybiB7IUl0ZXJhYmxlPCFPYmplY3Q+fSBJdGVyYWJsZSBvZiBuZXh0IHN0ZXBzLgogKi8KZnVuY3Rpb24qIHVwbG9hZEZpbGVzU3RlcChpbnB1dElkLCBvdXRwdXRJZCkgewogIGNvbnN0IGlucHV0RWxlbWVudCA9IGRvY3VtZW50LmdldEVsZW1lbnRCeUlkKGlucHV0SWQpOwogIGlucHV0RWxlbWVudC5kaXNhYmxlZCA9IGZhbHNlOwoKICBjb25zdCBvdXRwdXRFbGVtZW50ID0gZG9jdW1lbnQuZ2V0RWxlbWVudEJ5SWQob3V0cHV0SWQpOwogIG91dHB1dEVsZW1lbnQuaW5uZXJIVE1MID0gJyc7CgogIGNvbnN0IHBpY2tlZFByb21pc2UgPSBuZXcgUHJvbWlzZSgocmVzb2x2ZSkgPT4gewogICAgaW5wdXRFbGVtZW50LmFkZEV2ZW50TGlzdGVuZXIoJ2NoYW5nZScsIChlKSA9PiB7CiAgICAgIHJlc29sdmUoZS50YXJnZXQuZmlsZXMpOwogICAgfSk7CiAgfSk7CgogIGNvbnN0IGNhbmNlbCA9IGRvY3VtZW50LmNyZWF0ZUVsZW1lbnQoJ2J1dHRvbicpOwogIGlucHV0RWxlbWVudC5wYXJlbnRFbGVtZW50LmFwcGVuZENoaWxkKGNhbmNlbCk7CiAgY2FuY2VsLnRleHRDb250ZW50ID0gJ0NhbmNlbCB1cGxvYWQnOwogIGNvbnN0IGNhbmNlbFByb21pc2UgPSBuZXcgUHJvbWlzZSgocmVzb2x2ZSkgPT4gewogICAgY2FuY2VsLm9uY2xpY2sgPSAoKSA9PiB7CiAgICAgIHJlc29sdmUobnVsbCk7CiAgICB9OwogIH0pOwoKICAvLyBXYWl0IGZvciB0aGUgdXNlciB0byBwaWNrIHRoZSBmaWxlcy4KICBjb25zdCBmaWxlcyA9IHlpZWxkIHsKICAgIHByb21pc2U6IFByb21pc2UucmFjZShbcGlja2VkUHJvbWlzZSwgY2FuY2VsUHJvbWlzZV0pLAogICAgcmVzcG9uc2U6IHsKICAgICAgYWN0aW9uOiAnc3RhcnRpbmcnLAogICAgfQogIH07CgogIGNhbmNlbC5yZW1vdmUoKTsKCiAgLy8gRGlzYWJsZSB0aGUgaW5wdXQgZWxlbWVudCBzaW5jZSBmdXJ0aGVyIHBpY2tzIGFyZSBub3QgYWxsb3dlZC4KICBpbnB1dEVsZW1lbnQuZGlzYWJsZWQgPSB0cnVlOwoKICBpZiAoIWZpbGVzKSB7CiAgICByZXR1cm4gewogICAgICByZXNwb25zZTogewogICAgICAgIGFjdGlvbjogJ2NvbXBsZXRlJywKICAgICAgfQogICAgfTsKICB9CgogIGZvciAoY29uc3QgZmlsZSBvZiBmaWxlcykgewogICAgY29uc3QgbGkgPSBkb2N1bWVudC5jcmVhdGVFbGVtZW50KCdsaScpOwogICAgbGkuYXBwZW5kKHNwYW4oZmlsZS5uYW1lLCB7Zm9udFdlaWdodDogJ2JvbGQnfSkpOwogICAgbGkuYXBwZW5kKHNwYW4oCiAgICAgICAgYCgke2ZpbGUudHlwZSB8fCAnbi9hJ30pIC0gJHtmaWxlLnNpemV9IGJ5dGVzLCBgICsKICAgICAgICBgbGFzdCBtb2RpZmllZDogJHsKICAgICAgICAgICAgZmlsZS5sYXN0TW9kaWZpZWREYXRlID8gZmlsZS5sYXN0TW9kaWZpZWREYXRlLnRvTG9jYWxlRGF0ZVN0cmluZygpIDoKICAgICAgICAgICAgICAgICAgICAgICAgICAgICAgICAgICAgJ24vYSd9IC0gYCkpOwogICAgY29uc3QgcGVyY2VudCA9IHNwYW4oJzAlIGRvbmUnKTsKICAgIGxpLmFwcGVuZENoaWxkKHBlcmNlbnQpOwoKICAgIG91dHB1dEVsZW1lbnQuYXBwZW5kQ2hpbGQobGkpOwoKICAgIGNvbnN0IGZpbGVEYXRhUHJvbWlzZSA9IG5ldyBQcm9taXNlKChyZXNvbHZlKSA9PiB7CiAgICAgIGNvbnN0IHJlYWRlciA9IG5ldyBGaWxlUmVhZGVyKCk7CiAgICAgIHJlYWRlci5vbmxvYWQgPSAoZSkgPT4gewogICAgICAgIHJlc29sdmUoZS50YXJnZXQucmVzdWx0KTsKICAgICAgfTsKICAgICAgcmVhZGVyLnJlYWRBc0FycmF5QnVmZmVyKGZpbGUpOwogICAgfSk7CiAgICAvLyBXYWl0IGZvciB0aGUgZGF0YSB0byBiZSByZWFkeS4KICAgIGxldCBmaWxlRGF0YSA9IHlpZWxkIHsKICAgICAgcHJvbWlzZTogZmlsZURhdGFQcm9taXNlLAogICAgICByZXNwb25zZTogewogICAgICAgIGFjdGlvbjogJ2NvbnRpbnVlJywKICAgICAgfQogICAgfTsKCiAgICAvLyBVc2UgYSBjaHVua2VkIHNlbmRpbmcgdG8gYXZvaWQgbWVzc2FnZSBzaXplIGxpbWl0cy4gU2VlIGIvNjIxMTU2NjAuCiAgICBsZXQgcG9zaXRpb24gPSAwOwogICAgd2hpbGUgKHBvc2l0aW9uIDwgZmlsZURhdGEuYnl0ZUxlbmd0aCkgewogICAgICBjb25zdCBsZW5ndGggPSBNYXRoLm1pbihmaWxlRGF0YS5ieXRlTGVuZ3RoIC0gcG9zaXRpb24sIE1BWF9QQVlMT0FEX1NJWkUpOwogICAgICBjb25zdCBjaHVuayA9IG5ldyBVaW50OEFycmF5KGZpbGVEYXRhLCBwb3NpdGlvbiwgbGVuZ3RoKTsKICAgICAgcG9zaXRpb24gKz0gbGVuZ3RoOwoKICAgICAgY29uc3QgYmFzZTY0ID0gYnRvYShTdHJpbmcuZnJvbUNoYXJDb2RlLmFwcGx5KG51bGwsIGNodW5rKSk7CiAgICAgIHlpZWxkIHsKICAgICAgICByZXNwb25zZTogewogICAgICAgICAgYWN0aW9uOiAnYXBwZW5kJywKICAgICAgICAgIGZpbGU6IGZpbGUubmFtZSwKICAgICAgICAgIGRhdGE6IGJhc2U2NCwKICAgICAgICB9LAogICAgICB9OwogICAgICBwZXJjZW50LnRleHRDb250ZW50ID0KICAgICAgICAgIGAke01hdGgucm91bmQoKHBvc2l0aW9uIC8gZmlsZURhdGEuYnl0ZUxlbmd0aCkgKiAxMDApfSUgZG9uZWA7CiAgICB9CiAgfQoKICAvLyBBbGwgZG9uZS4KICB5aWVsZCB7CiAgICByZXNwb25zZTogewogICAgICBhY3Rpb246ICdjb21wbGV0ZScsCiAgICB9CiAgfTsKfQoKc2NvcGUuZ29vZ2xlID0gc2NvcGUuZ29vZ2xlIHx8IHt9OwpzY29wZS5nb29nbGUuY29sYWIgPSBzY29wZS5nb29nbGUuY29sYWIgfHwge307CnNjb3BlLmdvb2dsZS5jb2xhYi5fZmlsZXMgPSB7CiAgX3VwbG9hZEZpbGVzLAogIF91cGxvYWRGaWxlc0NvbnRpbnVlLAp9Owp9KShzZWxmKTsK",
              "ok": true,
              "headers": [
                [
                  "content-type",
                  "application/javascript"
                ]
              ],
              "status": 200,
              "status_text": ""
            }
          },
          "base_uri": "https://localhost:8080/",
          "height": 72
        },
        "outputId": "2747e049-bdb8-4367-8f16-d6a7ac34373a"
      },
      "source": [
        "#Load the data \n",
        "from google.colab import files \n",
        "uploaded = files.upload()"
      ],
      "execution_count": 2,
      "outputs": [
        {
          "output_type": "display_data",
          "data": {
            "text/html": [
              "\n",
              "     <input type=\"file\" id=\"files-ad99578b-1ab0-4c2c-a0a7-006d0bd5f633\" name=\"files[]\" multiple disabled\n",
              "        style=\"border:none\" />\n",
              "     <output id=\"result-ad99578b-1ab0-4c2c-a0a7-006d0bd5f633\">\n",
              "      Upload widget is only available when the cell has been executed in the\n",
              "      current browser session. Please rerun this cell to enable.\n",
              "      </output>\n",
              "      <script src=\"/nbextensions/google.colab/files.js\"></script> "
            ],
            "text/plain": [
              "<IPython.core.display.HTML object>"
            ]
          },
          "metadata": {
            "tags": []
          }
        },
        {
          "output_type": "stream",
          "text": [
            "Saving AAPL.csv to AAPL.csv\n"
          ],
          "name": "stdout"
        }
      ]
    },
    {
      "cell_type": "code",
      "metadata": {
        "id": "JSYoNZshrDJK",
        "colab_type": "code",
        "colab": {
          "base_uri": "https://localhost:8080/",
          "height": 419
        },
        "outputId": "81ee875d-48ed-4602-e121-5d2f2dfa2e52"
      },
      "source": [
        "#Store the data \n",
        "df = pd.read_csv('AAPL.csv')\n",
        "\n",
        "#Set the index as date \n",
        "df = df.set_index(pd.DatetimeIndex(df['Date'].values))\n",
        "\n",
        "#Show the data\n",
        "df "
      ],
      "execution_count": 18,
      "outputs": [
        {
          "output_type": "execute_result",
          "data": {
            "text/html": [
              "<div>\n",
              "<style scoped>\n",
              "    .dataframe tbody tr th:only-of-type {\n",
              "        vertical-align: middle;\n",
              "    }\n",
              "\n",
              "    .dataframe tbody tr th {\n",
              "        vertical-align: top;\n",
              "    }\n",
              "\n",
              "    .dataframe thead th {\n",
              "        text-align: right;\n",
              "    }\n",
              "</style>\n",
              "<table border=\"1\" class=\"dataframe\">\n",
              "  <thead>\n",
              "    <tr style=\"text-align: right;\">\n",
              "      <th></th>\n",
              "      <th>Date</th>\n",
              "      <th>Open</th>\n",
              "      <th>High</th>\n",
              "      <th>Low</th>\n",
              "      <th>Close</th>\n",
              "      <th>Adj Close</th>\n",
              "      <th>Volume</th>\n",
              "    </tr>\n",
              "  </thead>\n",
              "  <tbody>\n",
              "    <tr>\n",
              "      <th>2019-08-12</th>\n",
              "      <td>2019-08-12</td>\n",
              "      <td>199.619995</td>\n",
              "      <td>202.050003</td>\n",
              "      <td>199.149994</td>\n",
              "      <td>200.479996</td>\n",
              "      <td>198.510406</td>\n",
              "      <td>22474900</td>\n",
              "    </tr>\n",
              "    <tr>\n",
              "      <th>2019-08-13</th>\n",
              "      <td>2019-08-13</td>\n",
              "      <td>201.020004</td>\n",
              "      <td>212.139999</td>\n",
              "      <td>200.479996</td>\n",
              "      <td>208.970001</td>\n",
              "      <td>206.917007</td>\n",
              "      <td>47218500</td>\n",
              "    </tr>\n",
              "    <tr>\n",
              "      <th>2019-08-14</th>\n",
              "      <td>2019-08-14</td>\n",
              "      <td>203.160004</td>\n",
              "      <td>206.440002</td>\n",
              "      <td>202.589996</td>\n",
              "      <td>202.750000</td>\n",
              "      <td>200.758102</td>\n",
              "      <td>36547400</td>\n",
              "    </tr>\n",
              "    <tr>\n",
              "      <th>2019-08-15</th>\n",
              "      <td>2019-08-15</td>\n",
              "      <td>203.460007</td>\n",
              "      <td>205.139999</td>\n",
              "      <td>199.669998</td>\n",
              "      <td>201.740005</td>\n",
              "      <td>199.758026</td>\n",
              "      <td>27227400</td>\n",
              "    </tr>\n",
              "    <tr>\n",
              "      <th>2019-08-16</th>\n",
              "      <td>2019-08-16</td>\n",
              "      <td>204.279999</td>\n",
              "      <td>207.160004</td>\n",
              "      <td>203.839996</td>\n",
              "      <td>206.500000</td>\n",
              "      <td>204.471252</td>\n",
              "      <td>27620400</td>\n",
              "    </tr>\n",
              "    <tr>\n",
              "      <th>...</th>\n",
              "      <td>...</td>\n",
              "      <td>...</td>\n",
              "      <td>...</td>\n",
              "      <td>...</td>\n",
              "      <td>...</td>\n",
              "      <td>...</td>\n",
              "      <td>...</td>\n",
              "    </tr>\n",
              "    <tr>\n",
              "      <th>2020-08-04</th>\n",
              "      <td>2020-08-04</td>\n",
              "      <td>436.529999</td>\n",
              "      <td>443.160004</td>\n",
              "      <td>433.549988</td>\n",
              "      <td>438.660004</td>\n",
              "      <td>437.870514</td>\n",
              "      <td>43267900</td>\n",
              "    </tr>\n",
              "    <tr>\n",
              "      <th>2020-08-05</th>\n",
              "      <td>2020-08-05</td>\n",
              "      <td>437.510010</td>\n",
              "      <td>441.570007</td>\n",
              "      <td>435.589996</td>\n",
              "      <td>440.250000</td>\n",
              "      <td>439.457642</td>\n",
              "      <td>30498000</td>\n",
              "    </tr>\n",
              "    <tr>\n",
              "      <th>2020-08-06</th>\n",
              "      <td>2020-08-06</td>\n",
              "      <td>441.619995</td>\n",
              "      <td>457.649994</td>\n",
              "      <td>439.190002</td>\n",
              "      <td>455.609985</td>\n",
              "      <td>454.790009</td>\n",
              "      <td>50607200</td>\n",
              "    </tr>\n",
              "    <tr>\n",
              "      <th>2020-08-07</th>\n",
              "      <td>2020-08-07</td>\n",
              "      <td>452.820007</td>\n",
              "      <td>454.700012</td>\n",
              "      <td>441.170013</td>\n",
              "      <td>444.450012</td>\n",
              "      <td>444.450012</td>\n",
              "      <td>49453300</td>\n",
              "    </tr>\n",
              "    <tr>\n",
              "      <th>2020-08-10</th>\n",
              "      <td>2020-08-10</td>\n",
              "      <td>450.399994</td>\n",
              "      <td>455.089996</td>\n",
              "      <td>440.000000</td>\n",
              "      <td>451.066498</td>\n",
              "      <td>451.066498</td>\n",
              "      <td>42497147</td>\n",
              "    </tr>\n",
              "  </tbody>\n",
              "</table>\n",
              "<p>252 rows × 7 columns</p>\n",
              "</div>"
            ],
            "text/plain": [
              "                  Date        Open  ...   Adj Close    Volume\n",
              "2019-08-12  2019-08-12  199.619995  ...  198.510406  22474900\n",
              "2019-08-13  2019-08-13  201.020004  ...  206.917007  47218500\n",
              "2019-08-14  2019-08-14  203.160004  ...  200.758102  36547400\n",
              "2019-08-15  2019-08-15  203.460007  ...  199.758026  27227400\n",
              "2019-08-16  2019-08-16  204.279999  ...  204.471252  27620400\n",
              "...                ...         ...  ...         ...       ...\n",
              "2020-08-04  2020-08-04  436.529999  ...  437.870514  43267900\n",
              "2020-08-05  2020-08-05  437.510010  ...  439.457642  30498000\n",
              "2020-08-06  2020-08-06  441.619995  ...  454.790009  50607200\n",
              "2020-08-07  2020-08-07  452.820007  ...  444.450012  49453300\n",
              "2020-08-10  2020-08-10  450.399994  ...  451.066498  42497147\n",
              "\n",
              "[252 rows x 7 columns]"
            ]
          },
          "metadata": {
            "tags": []
          },
          "execution_count": 18
        }
      ]
    },
    {
      "cell_type": "code",
      "metadata": {
        "id": "qTKMJeQEs3zs",
        "colab_type": "code",
        "colab": {
          "base_uri": "https://localhost:8080/",
          "height": 306
        },
        "outputId": "2c6488f1-cd19-42eb-cfaa-7f00715d084f"
      },
      "source": [
        "#Visually show the stock price \n",
        "plt.figure(figsize=(12.2, 4.5))\n",
        "plt.plot(df['Close'], label='Close') \n",
        "plt.xlabel('Close price history')\n",
        "plt.ylabel('Price USD ($)')\n",
        "plt.show()"
      ],
      "execution_count": 20,
      "outputs": [
        {
          "output_type": "display_data",
          "data": {
            "image/png": "[encoded data removed]",
            "text/plain": [
              "<Figure size 878.4x324 with 1 Axes>"
            ]
          },
          "metadata": {
            "tags": [],
            "needs_background": "light"
          }
        }
      ]
    },
    {
      "cell_type": "code",
      "metadata": {
        "id": "I3Sw8SPCuNIh",
        "colab_type": "code",
        "colab": {}
      },
      "source": [
        "#Calculate the MACD and single line indicators \n",
        "\n",
        "\n",
        "#Calculate the short term EMA \n",
        "ShortEMA = df.Close.ewm(span=12, adjust=False).mean() \n",
        "\n",
        "#Calculate the long term EMA \n",
        "LongEMA = df.Close.ewm(span=26, adjust=False).mean() \n",
        "\n",
        "#Calculate the MACD \n",
        "MACD = ShortEMA - LongEMA \n",
        "\n",
        "#Calculate the signal line \n",
        "signal = MACD.ewm(span=9, adjust=False).mean()"
      ],
      "execution_count": 32,
      "outputs": []
    },
    {
      "cell_type": "code",
      "metadata": {
        "id": "KOnTMWY9wa2V",
        "colab_type": "code",
        "colab": {
          "base_uri": "https://localhost:8080/",
          "height": 316
        },
        "outputId": "e6e4ca2d-88e6-4698-97fb-ae77b8dbaf6a"
      },
      "source": [
        "#Plot the chart \n",
        "plt.figure(figsize=(12.2, 4.5))\n",
        "plt.plot(df.index, MACD, label='AAPL MACD', color='red')\n",
        "plt.plot(df.index, signal, label='signal line', color='blue')\n",
        "plt.xticks(rotation = 45)\n",
        "plt.legend(loc='upper left')\n",
        "plt.show()"
      ],
      "execution_count": 33,
      "outputs": [
        {
          "output_type": "display_data",
          "data": {
            "image/png": "[encoded data removed]",
            "text/plain": [
              "<Figure size 878.4x324 with 1 Axes>"
            ]
          },
          "metadata": {
            "tags": [],
            "needs_background": "light"
          }
        }
      ]
    },
    {
      "cell_type": "code",
      "metadata": {
        "id": "78cZeeJJg9Pk",
        "colab_type": "code",
        "colab": {
          "base_uri": "https://localhost:8080/",
          "height": 606
        },
        "outputId": "428fd2f4-a928-4394-a717-20ecf927182a"
      },
      "source": [
        "#Create new columns for the data \n",
        "df['MACD'] = MACD\n",
        "df['Signal line'] = signal \n",
        "\n",
        "#show the data \n",
        "df"
      ],
      "execution_count": 34,
      "outputs": [
        {
          "output_type": "execute_result",
          "data": {
            "text/html": [
              "<div>\n",
              "<style scoped>\n",
              "    .dataframe tbody tr th:only-of-type {\n",
              "        vertical-align: middle;\n",
              "    }\n",
              "\n",
              "    .dataframe tbody tr th {\n",
              "        vertical-align: top;\n",
              "    }\n",
              "\n",
              "    .dataframe thead th {\n",
              "        text-align: right;\n",
              "    }\n",
              "</style>\n",
              "<table border=\"1\" class=\"dataframe\">\n",
              "  <thead>\n",
              "    <tr style=\"text-align: right;\">\n",
              "      <th></th>\n",
              "      <th>Date</th>\n",
              "      <th>Open</th>\n",
              "      <th>High</th>\n",
              "      <th>Low</th>\n",
              "      <th>Close</th>\n",
              "      <th>Adj Close</th>\n",
              "      <th>Volume</th>\n",
              "      <th>MACD</th>\n",
              "      <th>Signal line</th>\n",
              "    </tr>\n",
              "  </thead>\n",
              "  <tbody>\n",
              "    <tr>\n",
              "      <th>2019-08-12</th>\n",
              "      <td>2019-08-12</td>\n",
              "      <td>199.619995</td>\n",
              "      <td>202.050003</td>\n",
              "      <td>199.149994</td>\n",
              "      <td>200.479996</td>\n",
              "      <td>198.510406</td>\n",
              "      <td>22474900</td>\n",
              "      <td>0.000000</td>\n",
              "      <td>0.000000</td>\n",
              "    </tr>\n",
              "    <tr>\n",
              "      <th>2019-08-13</th>\n",
              "      <td>2019-08-13</td>\n",
              "      <td>201.020004</td>\n",
              "      <td>212.139999</td>\n",
              "      <td>200.479996</td>\n",
              "      <td>208.970001</td>\n",
              "      <td>206.917007</td>\n",
              "      <td>47218500</td>\n",
              "      <td>0.677265</td>\n",
              "      <td>0.135453</td>\n",
              "    </tr>\n",
              "    <tr>\n",
              "      <th>2019-08-14</th>\n",
              "      <td>2019-08-14</td>\n",
              "      <td>203.160004</td>\n",
              "      <td>206.440002</td>\n",
              "      <td>202.589996</td>\n",
              "      <td>202.750000</td>\n",
              "      <td>200.758102</td>\n",
              "      <td>36547400</td>\n",
              "      <td>0.703986</td>\n",
              "      <td>0.249160</td>\n",
              "    </tr>\n",
              "    <tr>\n",
              "      <th>2019-08-15</th>\n",
              "      <td>2019-08-15</td>\n",
              "      <td>203.460007</td>\n",
              "      <td>205.139999</td>\n",
              "      <td>199.669998</td>\n",
              "      <td>201.740005</td>\n",
              "      <td>199.758026</td>\n",
              "      <td>27227400</td>\n",
              "      <td>0.636329</td>\n",
              "      <td>0.326593</td>\n",
              "    </tr>\n",
              "    <tr>\n",
              "      <th>2019-08-16</th>\n",
              "      <td>2019-08-16</td>\n",
              "      <td>204.279999</td>\n",
              "      <td>207.160004</td>\n",
              "      <td>203.839996</td>\n",
              "      <td>206.500000</td>\n",
              "      <td>204.471252</td>\n",
              "      <td>27620400</td>\n",
              "      <td>0.955784</td>\n",
              "      <td>0.452432</td>\n",
              "    </tr>\n",
              "    <tr>\n",
              "      <th>...</th>\n",
              "      <td>...</td>\n",
              "      <td>...</td>\n",
              "      <td>...</td>\n",
              "      <td>...</td>\n",
              "      <td>...</td>\n",
              "      <td>...</td>\n",
              "      <td>...</td>\n",
              "      <td>...</td>\n",
              "      <td>...</td>\n",
              "    </tr>\n",
              "    <tr>\n",
              "      <th>2020-08-04</th>\n",
              "      <td>2020-08-04</td>\n",
              "      <td>436.529999</td>\n",
              "      <td>443.160004</td>\n",
              "      <td>433.549988</td>\n",
              "      <td>438.660004</td>\n",
              "      <td>437.870514</td>\n",
              "      <td>43267900</td>\n",
              "      <td>15.435464</td>\n",
              "      <td>10.970757</td>\n",
              "    </tr>\n",
              "    <tr>\n",
              "      <th>2020-08-05</th>\n",
              "      <td>2020-08-05</td>\n",
              "      <td>437.510010</td>\n",
              "      <td>441.570007</td>\n",
              "      <td>435.589996</td>\n",
              "      <td>440.250000</td>\n",
              "      <td>439.457642</td>\n",
              "      <td>30498000</td>\n",
              "      <td>17.407307</td>\n",
              "      <td>12.258067</td>\n",
              "    </tr>\n",
              "    <tr>\n",
              "      <th>2020-08-06</th>\n",
              "      <td>2020-08-06</td>\n",
              "      <td>441.619995</td>\n",
              "      <td>457.649994</td>\n",
              "      <td>439.190002</td>\n",
              "      <td>455.609985</td>\n",
              "      <td>454.790009</td>\n",
              "      <td>50607200</td>\n",
              "      <td>19.979122</td>\n",
              "      <td>13.802278</td>\n",
              "    </tr>\n",
              "    <tr>\n",
              "      <th>2020-08-07</th>\n",
              "      <td>2020-08-07</td>\n",
              "      <td>452.820007</td>\n",
              "      <td>454.700012</td>\n",
              "      <td>441.170013</td>\n",
              "      <td>444.450012</td>\n",
              "      <td>444.450012</td>\n",
              "      <td>49453300</td>\n",
              "      <td>20.876140</td>\n",
              "      <td>15.217050</td>\n",
              "    </tr>\n",
              "    <tr>\n",
              "      <th>2020-08-10</th>\n",
              "      <td>2020-08-10</td>\n",
              "      <td>450.399994</td>\n",
              "      <td>455.089996</td>\n",
              "      <td>440.000000</td>\n",
              "      <td>451.066498</td>\n",
              "      <td>451.066498</td>\n",
              "      <td>42497147</td>\n",
              "      <td>21.868838</td>\n",
              "      <td>16.547408</td>\n",
              "    </tr>\n",
              "  </tbody>\n",
              "</table>\n",
              "<p>252 rows × 9 columns</p>\n",
              "</div>"
            ],
            "text/plain": [
              "                  Date        Open  ...       MACD  Signal line\n",
              "2019-08-12  2019-08-12  199.619995  ...   0.000000     0.000000\n",
              "2019-08-13  2019-08-13  201.020004  ...   0.677265     0.135453\n",
              "2019-08-14  2019-08-14  203.160004  ...   0.703986     0.249160\n",
              "2019-08-15  2019-08-15  203.460007  ...   0.636329     0.326593\n",
              "2019-08-16  2019-08-16  204.279999  ...   0.955784     0.452432\n",
              "...                ...         ...  ...        ...          ...\n",
              "2020-08-04  2020-08-04  436.529999  ...  15.435464    10.970757\n",
              "2020-08-05  2020-08-05  437.510010  ...  17.407307    12.258067\n",
              "2020-08-06  2020-08-06  441.619995  ...  19.979122    13.802278\n",
              "2020-08-07  2020-08-07  452.820007  ...  20.876140    15.217050\n",
              "2020-08-10  2020-08-10  450.399994  ...  21.868838    16.547408\n",
              "\n",
              "[252 rows x 9 columns]"
            ]
          },
          "metadata": {
            "tags": []
          },
          "execution_count": 34
        }
      ]
    },
    {
      "cell_type": "code",
      "metadata": {
        "id": "xXL5jggAi103",
        "colab_type": "code",
        "colab": {}
      },
      "source": [
        "#Create a function to signal when to buy and sell an asset \n",
        "def buy_sell(signal): \n",
        "  Buy = []\n",
        "  Sell = []\n",
        "  flag = -1 \n",
        "\n",
        "  for i in range(0, len(signal)): \n",
        "    if signal['MACD'][i] > signal['Signal line'][i]: \n",
        "      Sell.append(np.nan)\n",
        "      if flag != 1: \n",
        "        Buy.append(signal['Close'][i])\n",
        "        flag = 1\n",
        "      else: \n",
        "        Buy.append(np.nan)\n",
        "    elif signal['MACD'][i] < signal['Signal line'][i]: \n",
        "      Buy.append(np.nan)\n",
        "      if flag != 0: \n",
        "        Sell.append(signal['Close'][i])\n",
        "        flag = 0\n",
        "      else: \n",
        "        Sell.append(np.nan)\n",
        "    else: \n",
        "      Buy.append(np.nan)\n",
        "      Sell.append(np.nan)\n",
        "\n",
        "  return (Buy, Sell)\n",
        "    "
      ],
      "execution_count": 35,
      "outputs": []
    },
    {
      "cell_type": "code",
      "metadata": {
        "id": "RYSHZpIynKq3",
        "colab_type": "code",
        "colab": {}
      },
      "source": [
        "#Create a buy and sell column \n",
        "a = buy_sell(df)\n",
        "df['Buy_Signal_Price'] = a[0] \n",
        "df['Sell_Signal_Price'] = a[1] \n"
      ],
      "execution_count": 36,
      "outputs": []
    },
    {
      "cell_type": "code",
      "metadata": {
        "id": "t7AaXv5Ln-MC",
        "colab_type": "code",
        "colab": {
          "base_uri": "https://localhost:8080/",
          "height": 419
        },
        "outputId": "33b527e3-f10b-49ce-a5ef-08fb5b171c33"
      },
      "source": [
        "#Show the data \n",
        "df "
      ],
      "execution_count": 37,
      "outputs": [
        {
          "output_type": "execute_result",
          "data": {
            "text/html": [
              "<div>\n",
              "<style scoped>\n",
              "    .dataframe tbody tr th:only-of-type {\n",
              "        vertical-align: middle;\n",
              "    }\n",
              "\n",
              "    .dataframe tbody tr th {\n",
              "        vertical-align: top;\n",
              "    }\n",
              "\n",
              "    .dataframe thead th {\n",
              "        text-align: right;\n",
              "    }\n",
              "</style>\n",
              "<table border=\"1\" class=\"dataframe\">\n",
              "  <thead>\n",
              "    <tr style=\"text-align: right;\">\n",
              "      <th></th>\n",
              "      <th>Date</th>\n",
              "      <th>Open</th>\n",
              "      <th>High</th>\n",
              "      <th>Low</th>\n",
              "      <th>Close</th>\n",
              "      <th>Adj Close</th>\n",
              "      <th>Volume</th>\n",
              "      <th>MACD</th>\n",
              "      <th>Signal line</th>\n",
              "      <th>Buy_Signal_Price</th>\n",
              "      <th>Sell_Signal_Price</th>\n",
              "    </tr>\n",
              "  </thead>\n",
              "  <tbody>\n",
              "    <tr>\n",
              "      <th>2019-08-12</th>\n",
              "      <td>2019-08-12</td>\n",
              "      <td>199.619995</td>\n",
              "      <td>202.050003</td>\n",
              "      <td>199.149994</td>\n",
              "      <td>200.479996</td>\n",
              "      <td>198.510406</td>\n",
              "      <td>22474900</td>\n",
              "      <td>0.000000</td>\n",
              "      <td>0.000000</td>\n",
              "      <td>NaN</td>\n",
              "      <td>NaN</td>\n",
              "    </tr>\n",
              "    <tr>\n",
              "      <th>2019-08-13</th>\n",
              "      <td>2019-08-13</td>\n",
              "      <td>201.020004</td>\n",
              "      <td>212.139999</td>\n",
              "      <td>200.479996</td>\n",
              "      <td>208.970001</td>\n",
              "      <td>206.917007</td>\n",
              "      <td>47218500</td>\n",
              "      <td>0.677265</td>\n",
              "      <td>0.135453</td>\n",
              "      <td>208.970001</td>\n",
              "      <td>NaN</td>\n",
              "    </tr>\n",
              "    <tr>\n",
              "      <th>2019-08-14</th>\n",
              "      <td>2019-08-14</td>\n",
              "      <td>203.160004</td>\n",
              "      <td>206.440002</td>\n",
              "      <td>202.589996</td>\n",
              "      <td>202.750000</td>\n",
              "      <td>200.758102</td>\n",
              "      <td>36547400</td>\n",
              "      <td>0.703986</td>\n",
              "      <td>0.249160</td>\n",
              "      <td>NaN</td>\n",
              "      <td>NaN</td>\n",
              "    </tr>\n",
              "    <tr>\n",
              "      <th>2019-08-15</th>\n",
              "      <td>2019-08-15</td>\n",
              "      <td>203.460007</td>\n",
              "      <td>205.139999</td>\n",
              "      <td>199.669998</td>\n",
              "      <td>201.740005</td>\n",
              "      <td>199.758026</td>\n",
              "      <td>27227400</td>\n",
              "      <td>0.636329</td>\n",
              "      <td>0.326593</td>\n",
              "      <td>NaN</td>\n",
              "      <td>NaN</td>\n",
              "    </tr>\n",
              "    <tr>\n",
              "      <th>2019-08-16</th>\n",
              "      <td>2019-08-16</td>\n",
              "      <td>204.279999</td>\n",
              "      <td>207.160004</td>\n",
              "      <td>203.839996</td>\n",
              "      <td>206.500000</td>\n",
              "      <td>204.471252</td>\n",
              "      <td>27620400</td>\n",
              "      <td>0.955784</td>\n",
              "      <td>0.452432</td>\n",
              "      <td>NaN</td>\n",
              "      <td>NaN</td>\n",
              "    </tr>\n",
              "    <tr>\n",
              "      <th>...</th>\n",
              "      <td>...</td>\n",
              "      <td>...</td>\n",
              "      <td>...</td>\n",
              "      <td>...</td>\n",
              "      <td>...</td>\n",
              "      <td>...</td>\n",
              "      <td>...</td>\n",
              "      <td>...</td>\n",
              "      <td>...</td>\n",
              "      <td>...</td>\n",
              "      <td>...</td>\n",
              "    </tr>\n",
              "    <tr>\n",
              "      <th>2020-08-04</th>\n",
              "      <td>2020-08-04</td>\n",
              "      <td>436.529999</td>\n",
              "      <td>443.160004</td>\n",
              "      <td>433.549988</td>\n",
              "      <td>438.660004</td>\n",
              "      <td>437.870514</td>\n",
              "      <td>43267900</td>\n",
              "      <td>15.435464</td>\n",
              "      <td>10.970757</td>\n",
              "      <td>NaN</td>\n",
              "      <td>NaN</td>\n",
              "    </tr>\n",
              "    <tr>\n",
              "      <th>2020-08-05</th>\n",
              "      <td>2020-08-05</td>\n",
              "      <td>437.510010</td>\n",
              "      <td>441.570007</td>\n",
              "      <td>435.589996</td>\n",
              "      <td>440.250000</td>\n",
              "      <td>439.457642</td>\n",
              "      <td>30498000</td>\n",
              "      <td>17.407307</td>\n",
              "      <td>12.258067</td>\n",
              "      <td>NaN</td>\n",
              "      <td>NaN</td>\n",
              "    </tr>\n",
              "    <tr>\n",
              "      <th>2020-08-06</th>\n",
              "      <td>2020-08-06</td>\n",
              "      <td>441.619995</td>\n",
              "      <td>457.649994</td>\n",
              "      <td>439.190002</td>\n",
              "      <td>455.609985</td>\n",
              "      <td>454.790009</td>\n",
              "      <td>50607200</td>\n",
              "      <td>19.979122</td>\n",
              "      <td>13.802278</td>\n",
              "      <td>NaN</td>\n",
              "      <td>NaN</td>\n",
              "    </tr>\n",
              "    <tr>\n",
              "      <th>2020-08-07</th>\n",
              "      <td>2020-08-07</td>\n",
              "      <td>452.820007</td>\n",
              "      <td>454.700012</td>\n",
              "      <td>441.170013</td>\n",
              "      <td>444.450012</td>\n",
              "      <td>444.450012</td>\n",
              "      <td>49453300</td>\n",
              "      <td>20.876140</td>\n",
              "      <td>15.217050</td>\n",
              "      <td>NaN</td>\n",
              "      <td>NaN</td>\n",
              "    </tr>\n",
              "    <tr>\n",
              "      <th>2020-08-10</th>\n",
              "      <td>2020-08-10</td>\n",
              "      <td>450.399994</td>\n",
              "      <td>455.089996</td>\n",
              "      <td>440.000000</td>\n",
              "      <td>451.066498</td>\n",
              "      <td>451.066498</td>\n",
              "      <td>42497147</td>\n",
              "      <td>21.868838</td>\n",
              "      <td>16.547408</td>\n",
              "      <td>NaN</td>\n",
              "      <td>NaN</td>\n",
              "    </tr>\n",
              "  </tbody>\n",
              "</table>\n",
              "<p>252 rows × 11 columns</p>\n",
              "</div>"
            ],
            "text/plain": [
              "                  Date        Open  ...  Buy_Signal_Price  Sell_Signal_Price\n",
              "2019-08-12  2019-08-12  199.619995  ...               NaN                NaN\n",
              "2019-08-13  2019-08-13  201.020004  ...        208.970001                NaN\n",
              "2019-08-14  2019-08-14  203.160004  ...               NaN                NaN\n",
              "2019-08-15  2019-08-15  203.460007  ...               NaN                NaN\n",
              "2019-08-16  2019-08-16  204.279999  ...               NaN                NaN\n",
              "...                ...         ...  ...               ...                ...\n",
              "2020-08-04  2020-08-04  436.529999  ...               NaN                NaN\n",
              "2020-08-05  2020-08-05  437.510010  ...               NaN                NaN\n",
              "2020-08-06  2020-08-06  441.619995  ...               NaN                NaN\n",
              "2020-08-07  2020-08-07  452.820007  ...               NaN                NaN\n",
              "2020-08-10  2020-08-10  450.399994  ...               NaN                NaN\n",
              "\n",
              "[252 rows x 11 columns]"
            ]
          },
          "metadata": {
            "tags": []
          },
          "execution_count": 37
        }
      ]
    },
    {
      "cell_type": "code",
      "metadata": {
        "id": "Afq9LJvwoHUb",
        "colab_type": "code",
        "colab": {
          "base_uri": "https://localhost:8080/",
          "height": 340
        },
        "outputId": "f9c1b296-8432-402a-d4c2-6e55aa8596c3"
      },
      "source": [
        "#Visually show the stock buy and sell signals \n",
        "plt.figure(figsize=(12.2, 4.5))\n",
        "plt.scatter(df.index, df['Buy_Signal_Price'], color = 'green', label='Buy', marker='^', alpha = 1)\n",
        "plt.scatter(df.index, df['Sell_Signal_Price'], color = 'red', label='Sell', marker='v', alpha = 1)\n",
        "plt.plot(df['Close'], label='Close price', alpha = 0.35) \n",
        "plt.title('Close Price Buy & Sell signals')\n",
        "plt.xlabel('Date')\n",
        "plt.ylabel('Close Price USD ($)')\n",
        "plt.legend(loc = 'upper left')\n",
        "plt.show"
      ],
      "execution_count": 40,
      "outputs": [
        {
          "output_type": "execute_result",
          "data": {
            "text/plain": [
              "<function matplotlib.pyplot.show>"
            ]
          },
          "metadata": {
            "tags": []
          },
          "execution_count": 40
        },
        {
          "output_type": "display_data",
          "data": {
            "image/png": "[encoded data removed]",
            "text/plain": [
              "<Figure size 878.4x324 with 1 Axes>"
            ]
          },
          "metadata": {
            "tags": [],
            "needs_background": "light"
          }
        }
      ]
    }
  ]
}